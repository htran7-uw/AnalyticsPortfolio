{
 "cells": [
  {
   "cell_type": "code",
   "execution_count": 40,
   "metadata": {},
   "outputs": [
    {
     "data": {
      "text/plain": [
       "[6, 8]"
      ]
     },
     "execution_count": 40,
     "metadata": {},
     "output_type": "execute_result"
    }
   ],
   "source": [
    "#I want to dynamically change the limit based on the # of files \n",
    "#extracted from the JSON \n",
    "#max split of 10 files for each bucket, min of 5 files for each bucket \n",
    "#if count is < 1000 rows just load whole file into bucket \n",
    "#if count is between 1000 and 10000 rows split int increase limit to 10000\n",
    "#if count is above 50,000 rows, each file should have a max of 20,000 rows \n",
    "#anything above 200,000 rows is too much \n",
    "num_rows = 148232\n",
    "\n",
    "if num_rows < 1000:\n",
    "    url = f'https://data.cdc.gov/resource/{key}.json'\n",
    "elif \n",
    "    num_rows >= 1000 and < 10000:\n",
    "    url = f'https://data.cdc.gov/resource/9bhg-hcku.json?$limit={limit}'\n",
    "elif\n",
    "    num_rows >= 10000 and < 50000:\n",
    "    url = f'https://data.cdc.gov/resource/9bhg-hcku.json?$limit={limit}&$offset={index_pos}'\n",
    "    \n",
    "        \n",
    "\n",
    "#modulus represents how many is left over\n",
    "#floor division represents the whole number and excludes remainder \n",
    "num_parse = []\n",
    "# for i in range(5,10):\n",
    "#     if num_rows % i < 2:\n",
    "#         num_parse.append(i)\n",
    "# num_parse\n",
    "\n",
    "\n",
    "num_parts = 5\n",
    "\n",
    "for _ in range(num_parts):\n",
    "    "
   ]
  },
  {
   "cell_type": "code",
   "execution_count": 266,
   "metadata": {},
   "outputs": [],
   "source": [
    "def get_offset(num_rows):\n",
    "    num_parts = []\n",
    "    parse_list = [] \n",
    "    for i in range(9,20):\n",
    "        if num_rows/i <= 20000:\n",
    "            parse_list.append(num_rows//i)\n",
    "            num_parts.append(i)\n",
    "    print(num_parts)\n",
    "    print(min(num_parts))\n",
    "    print(parse_list)\n",
    "    parse = max(parse_list)\n",
    "    #print(parse)\n",
    "\n",
    "    offset = [] \n",
    "    position = 0 \n",
    "    while position < num_rows:\n",
    "        offset.append(position)\n",
    "        position += (parse)\n",
    "\n",
    "    return parse, offset "
   ]
  },
  {
   "cell_type": "code",
   "execution_count": 268,
   "metadata": {},
   "outputs": [
    {
     "name": "stdout",
     "output_type": "stream",
     "text": [
      "[9, 10, 11, 12, 13, 14, 15, 16, 17, 18, 19]\n",
      "9\n",
      "[17025, 15323, 13930, 12769, 11787, 10945, 10215, 9577, 9013, 8512, 8064]\n"
     ]
    },
    {
     "data": {
      "text/plain": [
       "(17025, [0, 17025, 34050, 51075, 68100, 85125, 102150, 119175, 136200, 153225])"
      ]
     },
     "execution_count": 268,
     "metadata": {},
     "output_type": "execute_result"
    }
   ],
   "source": [
    "get_offset(153232)"
   ]
  },
  {
   "cell_type": "code",
   "execution_count": 105,
   "metadata": {},
   "outputs": [],
   "source": [
    "def create_url(key):\n",
    "    assert isinstance(key,str)\n",
    "    assert len(key) == 9\n",
    "    assert key[4] == '-'\n",
    "    url = f'https://data.cdc.gov/resource/{key}.json'\n",
    "    \n",
    "    return url\n",
    "\n",
    "num_rows_url = 'https://data.cdc.gov/resource/9bhg-hcku.json?$select=count(state)'\n",
    "    num_rows_result = requests.get(num_rows_url)\n",
    "    num_rows_data = num_rows_result.json()\n",
    "    num_rows = int(num_rows_data[0]['count_state']))"
   ]
  },
  {
   "cell_type": "code",
   "execution_count": 106,
   "metadata": {},
   "outputs": [
    {
     "data": {
      "text/plain": [
       "'https://data.cdc.gov/resource/2k31-we31.json'"
      ]
     },
     "execution_count": 106,
     "metadata": {},
     "output_type": "execute_result"
    }
   ],
   "source": [
    "create_url('2k31-we31')"
   ]
  },
  {
   "cell_type": "code",
   "execution_count": 285,
   "metadata": {},
   "outputs": [],
   "source": [
    "import requests\n",
    "\n",
    "class CDC:\n",
    "    def __init__(self, key):\n",
    "        assert isinstance(key,str)\n",
    "        assert len(key) == 9\n",
    "        assert key[4] == '-'\n",
    "        self.url = f'https://data.cdc.gov/resource/{key}.json'\n",
    "        data = requests.get(f'{self.url}?$select=count(state)').json()\n",
    "        self.num_rows = int(data[0]['count_state'])\n",
    "        self.url_list = self.get_urls()\n",
    "        \n",
    "    def get_urls(self):\n",
    "        if self.num_rows < 1000:\n",
    "            return self.url\n",
    "        \n",
    "        elif self.num_rows >= 1000 and self.num_rows < 10000:\n",
    "            return f'{self.url}?$limit={self.num_rows}'\n",
    "        \n",
    "        elif self.num_rows >= 10000 and self.num_rows < 50000:\n",
    "            parse_list = [] \n",
    "            for i in range(1,6):\n",
    "                if num_rows/i < 10000: #see which number of parts results in less than 10,000 rows\n",
    "                    parse_list.append(num_rows//i) #take the floor division result and add it to parse list\n",
    "            parse = max(parse_list) #take the maximum of this list because I want the fewest files... less time \n",
    "            #print(parse)\n",
    "\n",
    "            offset = [] \n",
    "            position = 0 \n",
    "            while position < self.num_rows:\n",
    "                offset.append(position)\n",
    "                position += (parse)\n",
    "            \n",
    "            url_list = []\n",
    "            for pos in offset:\n",
    "                url_list.append(f'{self.url}?$limit={parse}&$offset={pos}')\n",
    "                \n",
    "            return url_list\n",
    "       \n",
    "    \n",
    "        elif self.num_rows >= 50000 and self.num_rows < 200000:\n",
    "            parse_list = [] \n",
    "            for i in range(9,20):\n",
    "                if num_rows/i <= 20000: #see which number of parts results in less than 20,000 rows\n",
    "                    parse_list.append(self.num_rows//i) #take the floor division result and add it to parse list\n",
    "            parse = max(parse_list) #take the minimum from this list because I want to get fewest file parses\n",
    "\n",
    "            offset = [] \n",
    "            position = 0 \n",
    "            while position < self.num_rows:\n",
    "                offset.append(position)\n",
    "                position += (parse)\n",
    "            \n",
    "            url_list = []\n",
    "            for pos in offset:\n",
    "                url_list.append(f'{self.url}?$limit={parse}&$offset={pos}')\n",
    "                \n",
    "            return url_list\n",
    "    def __len__(self):\n",
    "        return len(self.url_list)\n",
    "    \n",
    "    def __str__(self):\n",
    "        return f'This URL has a total of {len(self)} file(s) that will be uploaded.'\n",
    "        \n",
    "    \n",
    "    "
   ]
  },
  {
   "cell_type": "code",
   "execution_count": 282,
   "metadata": {},
   "outputs": [],
   "source": [
    "this = CDC('9bhg-hcku')"
   ]
  },
  {
   "cell_type": "code",
   "execution_count": 283,
   "metadata": {},
   "outputs": [
    {
     "data": {
      "text/plain": [
       "153232"
      ]
     },
     "execution_count": 283,
     "metadata": {},
     "output_type": "execute_result"
    }
   ],
   "source": [
    "this.num_rows"
   ]
  },
  {
   "cell_type": "code",
   "execution_count": 284,
   "metadata": {},
   "outputs": [
    {
     "data": {
      "text/plain": [
       "['https://data.cdc.gov/resource/9bhg-hcku.json?$limit=17025&$offset=0',\n",
       " 'https://data.cdc.gov/resource/9bhg-hcku.json?$limit=17025&$offset=17025',\n",
       " 'https://data.cdc.gov/resource/9bhg-hcku.json?$limit=17025&$offset=34050',\n",
       " 'https://data.cdc.gov/resource/9bhg-hcku.json?$limit=17025&$offset=51075',\n",
       " 'https://data.cdc.gov/resource/9bhg-hcku.json?$limit=17025&$offset=68100',\n",
       " 'https://data.cdc.gov/resource/9bhg-hcku.json?$limit=17025&$offset=85125',\n",
       " 'https://data.cdc.gov/resource/9bhg-hcku.json?$limit=17025&$offset=102150',\n",
       " 'https://data.cdc.gov/resource/9bhg-hcku.json?$limit=17025&$offset=119175',\n",
       " 'https://data.cdc.gov/resource/9bhg-hcku.json?$limit=17025&$offset=136200',\n",
       " 'https://data.cdc.gov/resource/9bhg-hcku.json?$limit=17025&$offset=153225']"
      ]
     },
     "execution_count": 284,
     "metadata": {},
     "output_type": "execute_result"
    }
   ],
   "source": [
    "this.get_urls()"
   ]
  },
  {
   "cell_type": "code",
   "execution_count": 261,
   "metadata": {},
   "outputs": [
    {
     "name": "stdout",
     "output_type": "stream",
     "text": [
      "This URL has a total of 30 file(s) that will be uploaded.\n"
     ]
    }
   ],
   "source": [
    "print(this)"
   ]
  },
  {
   "cell_type": "code",
   "execution_count": null,
   "metadata": {},
   "outputs": [],
   "source": []
  },
  {
   "cell_type": "code",
   "execution_count": null,
   "metadata": {},
   "outputs": [],
   "source": []
  }
 ],
 "metadata": {
  "kernelspec": {
   "display_name": "Python 3",
   "language": "python",
   "name": "python3"
  },
  "language_info": {
   "codemirror_mode": {
    "name": "ipython",
    "version": 3
   },
   "file_extension": ".py",
   "mimetype": "text/x-python",
   "name": "python",
   "nbconvert_exporter": "python",
   "pygments_lexer": "ipython3",
   "version": "3.8.5"
  }
 },
 "nbformat": 4,
 "nbformat_minor": 4
}
