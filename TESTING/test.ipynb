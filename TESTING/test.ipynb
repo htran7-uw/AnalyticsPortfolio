{
 "cells": [
  {
   "cell_type": "code",
   "execution_count": 3,
   "metadata": {},
   "outputs": [
    {
     "name": "stdout",
     "output_type": "stream",
     "text": [
      "Index(['data_as_of', 'start_date', 'end_date', 'group', 'state', 'sex',\n",
      "       'age_group', 'covid_19_deaths', 'total_deaths', 'pneumonia_deaths',\n",
      "       'pneumonia_and_covid_19_deaths', 'influenza_deaths',\n",
      "       'pneumonia_influenza_or_covid', 'footnote', 'year', 'month'],\n",
      "      dtype='object')\n",
      "Total time to upload covid19data.csv was 4.07 seconds.\n"
     ]
    }
   ],
   "source": [
    "import pandas as pd\n",
    "import requests\n",
    "import boto3\n",
    "import os\n",
    "from time import time\n",
    "\n",
    "''' \n",
    "I want to create two lists. offset will be the index of getting the data, \n",
    "while limit will be the index of where to stop getting the data for the csv.\n",
    "i will start off at 0 for offset. The limit will be 10000. \n",
    "For example if a row count has 82,426 each csv file should have 10,000 rows \n",
    "leading up to 82,426. The last file should have 2,426.\n",
    "'''\n",
    "credentials_path = \"/Users/httran/Documents/Programming/Credentials_Repo/\"\n",
    "credentials = pd.read_csv(credentials_path + 'user_credentials.csv')\n",
    "aws_key = str(credentials['Access key ID'][0])\n",
    "aws_secret_key = credentials['Secret access key'][0]\n",
    "\n",
    "s3 = boto3.client('s3', region_name='us-east-1', aws_access_key_id=aws_key, aws_secret_access_key=aws_secret_key)\n",
    "\n",
    "'''Create the bucket'''\n",
    "#s3.create_bucket(Bucket='htran-covid-project')\n",
    "\n",
    "'''Get the count of rows for the dataset. Get the limit and offset parameters. \n",
    "Get the limit and offset parameter for each url. Extract that and convert to a csv.\n",
    "Upload that csv to the s3 bucket. Continue until we reach the end of the list'''\n",
    "\n",
    "num_rows_url = 'https://data.cdc.gov/resource/9bhg-hcku.json?$select=count(state)'\n",
    "num_rows_result = requests.get(num_rows_url)\n",
    "num_rows_data = num_rows_result.json()\n",
    "num_rows = int(num_rows_data[0]['count_state'])\n",
    "\n",
    "# I don't like the way this is formatted but we can work on it later\n",
    "# i = 0\n",
    "# offset = []\n",
    "# limit = 10000\n",
    "# while i < num_rows:\n",
    "#     offset.append(i)\n",
    "#     i += 10000\n",
    "# offset[-1] = num_rows\n",
    "\n",
    "#example url: https://soda.demo.socrata.com/resource/earthquakes.json?$limit=5&$offset=0$order=data_as_of\n",
    "# for index_pos in offset:\n",
    "t0 = time()\n",
    "url = f'https://data.cdc.gov/resource/9bhg-hcku.json?$limit=50000'\n",
    "result = requests.get(url)\n",
    "data = result.json()\n",
    "df = pd.DataFrame(data)\n",
    "print(df.columns)\n",
    "file_name = f'covid19data.csv'\n",
    "df.to_csv(file_name)\n",
    "s3.upload_file(file_name, Bucket='htran-covid-project', Key=file_name)\n",
    "t1 = time()\n",
    "total_time = round((t1 - t0),2)\n",
    "print(f'Total time to upload {file_name} was {total_time} seconds.')\n",
    "# if os.path.exists(file_name):\n",
    "#     os.remove(file_name)\n",
    "# else:\n",
    "#     continue"
   ]
  },
  {
   "cell_type": "code",
   "execution_count": 9,
   "metadata": {},
   "outputs": [],
   "source": [
    "df = pd.read_csv('covid19data.csv',index_col = 0)"
   ]
  },
  {
   "cell_type": "code",
   "execution_count": 10,
   "metadata": {},
   "outputs": [
    {
     "data": {
      "text/html": [
       "<div>\n",
       "<style scoped>\n",
       "    .dataframe tbody tr th:only-of-type {\n",
       "        vertical-align: middle;\n",
       "    }\n",
       "\n",
       "    .dataframe tbody tr th {\n",
       "        vertical-align: top;\n",
       "    }\n",
       "\n",
       "    .dataframe thead th {\n",
       "        text-align: right;\n",
       "    }\n",
       "</style>\n",
       "<table border=\"1\" class=\"dataframe\">\n",
       "  <thead>\n",
       "    <tr style=\"text-align: right;\">\n",
       "      <th></th>\n",
       "      <th>data_as_of</th>\n",
       "      <th>start_date</th>\n",
       "      <th>end_date</th>\n",
       "      <th>group</th>\n",
       "      <th>state</th>\n",
       "      <th>sex</th>\n",
       "      <th>age_group</th>\n",
       "      <th>covid_19_deaths</th>\n",
       "      <th>total_deaths</th>\n",
       "      <th>pneumonia_deaths</th>\n",
       "      <th>pneumonia_and_covid_19_deaths</th>\n",
       "      <th>influenza_deaths</th>\n",
       "      <th>pneumonia_influenza_or_covid</th>\n",
       "      <th>footnote</th>\n",
       "      <th>year</th>\n",
       "      <th>month</th>\n",
       "    </tr>\n",
       "  </thead>\n",
       "  <tbody>\n",
       "    <tr>\n",
       "      <th>0</th>\n",
       "      <td>2022-03-02T00:00:00.000</td>\n",
       "      <td>2020-01-01T00:00:00.000</td>\n",
       "      <td>2022-02-26T00:00:00.000</td>\n",
       "      <td>By Total</td>\n",
       "      <td>United States</td>\n",
       "      <td>All Sexes</td>\n",
       "      <td>All Ages</td>\n",
       "      <td>944650.0</td>\n",
       "      <td>7297815.0</td>\n",
       "      <td>830505.0</td>\n",
       "      <td>489420.0</td>\n",
       "      <td>10462.0</td>\n",
       "      <td>1294658.0</td>\n",
       "      <td>NaN</td>\n",
       "      <td>NaN</td>\n",
       "      <td>NaN</td>\n",
       "    </tr>\n",
       "    <tr>\n",
       "      <th>1</th>\n",
       "      <td>2022-03-02T00:00:00.000</td>\n",
       "      <td>2020-01-01T00:00:00.000</td>\n",
       "      <td>2022-02-26T00:00:00.000</td>\n",
       "      <td>By Total</td>\n",
       "      <td>United States</td>\n",
       "      <td>All Sexes</td>\n",
       "      <td>Under 1 year</td>\n",
       "      <td>224.0</td>\n",
       "      <td>40604.0</td>\n",
       "      <td>476.0</td>\n",
       "      <td>27.0</td>\n",
       "      <td>27.0</td>\n",
       "      <td>699.0</td>\n",
       "      <td>NaN</td>\n",
       "      <td>NaN</td>\n",
       "      <td>NaN</td>\n",
       "    </tr>\n",
       "    <tr>\n",
       "      <th>2</th>\n",
       "      <td>2022-03-02T00:00:00.000</td>\n",
       "      <td>2020-01-01T00:00:00.000</td>\n",
       "      <td>2022-02-26T00:00:00.000</td>\n",
       "      <td>By Total</td>\n",
       "      <td>United States</td>\n",
       "      <td>All Sexes</td>\n",
       "      <td>0-17 years</td>\n",
       "      <td>865.0</td>\n",
       "      <td>72039.0</td>\n",
       "      <td>1407.0</td>\n",
       "      <td>241.0</td>\n",
       "      <td>198.0</td>\n",
       "      <td>2228.0</td>\n",
       "      <td>NaN</td>\n",
       "      <td>NaN</td>\n",
       "      <td>NaN</td>\n",
       "    </tr>\n",
       "    <tr>\n",
       "      <th>3</th>\n",
       "      <td>2022-03-02T00:00:00.000</td>\n",
       "      <td>2020-01-01T00:00:00.000</td>\n",
       "      <td>2022-02-26T00:00:00.000</td>\n",
       "      <td>By Total</td>\n",
       "      <td>United States</td>\n",
       "      <td>All Sexes</td>\n",
       "      <td>1-4 years</td>\n",
       "      <td>101.0</td>\n",
       "      <td>7562.0</td>\n",
       "      <td>281.0</td>\n",
       "      <td>26.0</td>\n",
       "      <td>67.0</td>\n",
       "      <td>423.0</td>\n",
       "      <td>NaN</td>\n",
       "      <td>NaN</td>\n",
       "      <td>NaN</td>\n",
       "    </tr>\n",
       "    <tr>\n",
       "      <th>4</th>\n",
       "      <td>2022-03-02T00:00:00.000</td>\n",
       "      <td>2020-01-01T00:00:00.000</td>\n",
       "      <td>2022-02-26T00:00:00.000</td>\n",
       "      <td>By Total</td>\n",
       "      <td>United States</td>\n",
       "      <td>All Sexes</td>\n",
       "      <td>5-14 years</td>\n",
       "      <td>268.0</td>\n",
       "      <td>12071.0</td>\n",
       "      <td>411.0</td>\n",
       "      <td>93.0</td>\n",
       "      <td>81.0</td>\n",
       "      <td>667.0</td>\n",
       "      <td>NaN</td>\n",
       "      <td>NaN</td>\n",
       "      <td>NaN</td>\n",
       "    </tr>\n",
       "  </tbody>\n",
       "</table>\n",
       "</div>"
      ],
      "text/plain": [
       "                data_as_of               start_date                 end_date  \\\n",
       "0  2022-03-02T00:00:00.000  2020-01-01T00:00:00.000  2022-02-26T00:00:00.000   \n",
       "1  2022-03-02T00:00:00.000  2020-01-01T00:00:00.000  2022-02-26T00:00:00.000   \n",
       "2  2022-03-02T00:00:00.000  2020-01-01T00:00:00.000  2022-02-26T00:00:00.000   \n",
       "3  2022-03-02T00:00:00.000  2020-01-01T00:00:00.000  2022-02-26T00:00:00.000   \n",
       "4  2022-03-02T00:00:00.000  2020-01-01T00:00:00.000  2022-02-26T00:00:00.000   \n",
       "\n",
       "      group          state        sex     age_group  covid_19_deaths  \\\n",
       "0  By Total  United States  All Sexes      All Ages         944650.0   \n",
       "1  By Total  United States  All Sexes  Under 1 year            224.0   \n",
       "2  By Total  United States  All Sexes    0-17 years            865.0   \n",
       "3  By Total  United States  All Sexes     1-4 years            101.0   \n",
       "4  By Total  United States  All Sexes    5-14 years            268.0   \n",
       "\n",
       "   total_deaths  pneumonia_deaths  pneumonia_and_covid_19_deaths  \\\n",
       "0     7297815.0          830505.0                       489420.0   \n",
       "1       40604.0             476.0                           27.0   \n",
       "2       72039.0            1407.0                          241.0   \n",
       "3        7562.0             281.0                           26.0   \n",
       "4       12071.0             411.0                           93.0   \n",
       "\n",
       "   influenza_deaths  pneumonia_influenza_or_covid footnote  year  month  \n",
       "0           10462.0                     1294658.0      NaN   NaN    NaN  \n",
       "1              27.0                         699.0      NaN   NaN    NaN  \n",
       "2             198.0                        2228.0      NaN   NaN    NaN  \n",
       "3              67.0                         423.0      NaN   NaN    NaN  \n",
       "4              81.0                         667.0      NaN   NaN    NaN  "
      ]
     },
     "execution_count": 10,
     "metadata": {},
     "output_type": "execute_result"
    }
   ],
   "source": [
    "df.head()"
   ]
  },
  {
   "cell_type": "code",
   "execution_count": 11,
   "metadata": {},
   "outputs": [
    {
     "ename": "TypeError",
     "evalue": "Cannot convert input [0        2022-03-02T00:00:00.000\n1        2022-03-02T00:00:00.000\n2        2022-03-02T00:00:00.000\n3        2022-03-02T00:00:00.000\n4        2022-03-02T00:00:00.000\n                  ...           \n49995    2022-03-02T00:00:00.000\n49996    2022-03-02T00:00:00.000\n49997    2022-03-02T00:00:00.000\n49998    2022-03-02T00:00:00.000\n49999    2022-03-02T00:00:00.000\nName: data_as_of, Length: 50000, dtype: object] of type <class 'pandas.core.series.Series'> to Timestamp",
     "output_type": "error",
     "traceback": [
      "\u001b[0;31m---------------------------------------------------------------------------\u001b[0m",
      "\u001b[0;31mTypeError\u001b[0m                                 Traceback (most recent call last)",
      "\u001b[0;32m<ipython-input-11-cde4fd2affd6>\u001b[0m in \u001b[0;36m<module>\u001b[0;34m\u001b[0m\n\u001b[0;32m----> 1\u001b[0;31m \u001b[0mpd\u001b[0m\u001b[0;34m.\u001b[0m\u001b[0mTimestamp\u001b[0m\u001b[0;34m(\u001b[0m\u001b[0mdf\u001b[0m\u001b[0;34m[\u001b[0m\u001b[0;34m'data_as_of'\u001b[0m\u001b[0;34m]\u001b[0m\u001b[0;34m)\u001b[0m\u001b[0;34m\u001b[0m\u001b[0;34m\u001b[0m\u001b[0m\n\u001b[0m",
      "\u001b[0;32mpandas/_libs/tslibs/timestamps.pyx\u001b[0m in \u001b[0;36mpandas._libs.tslibs.timestamps.Timestamp.__new__\u001b[0;34m()\u001b[0m\n",
      "\u001b[0;32mpandas/_libs/tslibs/conversion.pyx\u001b[0m in \u001b[0;36mpandas._libs.tslibs.conversion.convert_to_tsobject\u001b[0;34m()\u001b[0m\n",
      "\u001b[0;31mTypeError\u001b[0m: Cannot convert input [0        2022-03-02T00:00:00.000\n1        2022-03-02T00:00:00.000\n2        2022-03-02T00:00:00.000\n3        2022-03-02T00:00:00.000\n4        2022-03-02T00:00:00.000\n                  ...           \n49995    2022-03-02T00:00:00.000\n49996    2022-03-02T00:00:00.000\n49997    2022-03-02T00:00:00.000\n49998    2022-03-02T00:00:00.000\n49999    2022-03-02T00:00:00.000\nName: data_as_of, Length: 50000, dtype: object] of type <class 'pandas.core.series.Series'> to Timestamp"
     ]
    }
   ],
   "source": [
    "pd.Timestamp(df['data_as_of'])"
   ]
  },
  {
   "cell_type": "code",
   "execution_count": 12,
   "metadata": {},
   "outputs": [
    {
     "name": "stdout",
     "output_type": "stream",
     "text": [
      "<class 'str'>\n"
     ]
    }
   ],
   "source": [
    "print(type(df['data_as_of'][0]))"
   ]
  },
  {
   "cell_type": "code",
   "execution_count": 15,
   "metadata": {},
   "outputs": [
    {
     "name": "stdout",
     "output_type": "stream",
     "text": [
      "['age_group', 'covid_19_deaths', 'data_as_of', 'end_date', 'footnote', 'group', 'influenza_deaths', 'month', 'pneumonia_and_covid_19_deaths', 'pneumonia_deaths', 'pneumonia_influenza_or_covid', 'sex', 'start_date', 'state', 'total_deaths', 'year']\n"
     ]
    }
   ],
   "source": [
    "print(sorted(df.columns))"
   ]
  },
  {
   "cell_type": "code",
   "execution_count": null,
   "metadata": {},
   "outputs": [],
   "source": []
  }
 ],
 "metadata": {
  "kernelspec": {
   "display_name": "Python 3",
   "language": "python",
   "name": "python3"
  },
  "language_info": {
   "codemirror_mode": {
    "name": "ipython",
    "version": 3
   },
   "file_extension": ".py",
   "mimetype": "text/x-python",
   "name": "python",
   "nbconvert_exporter": "python",
   "pygments_lexer": "ipython3",
   "version": "3.8.5"
  }
 },
 "nbformat": 4,
 "nbformat_minor": 4
}
